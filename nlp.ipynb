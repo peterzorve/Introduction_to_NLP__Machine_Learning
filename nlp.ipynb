{
 "cells": [
  {
   "cell_type": "code",
   "execution_count": null,
   "metadata": {},
   "outputs": [],
   "source": []
  },
  {
   "attachments": {},
   "cell_type": "markdown",
   "metadata": {},
   "source": [
    "### Types of Strings Data in NLP"
   ]
  },
  {
   "attachments": {},
   "cell_type": "markdown",
   "metadata": {},
   "source": [
    "#### 1. Categorical Data"
   ]
  },
  {
   "cell_type": "code",
   "execution_count": 33,
   "metadata": {},
   "outputs": [
    {
     "name": "stdout",
     "output_type": "stream",
     "text": [
      "['red', 'yellow', 'green', 'brown']\n"
     ]
    }
   ],
   "source": [
    "\"\"\" This is a string data from a fixed number of list \n",
    "    This can be a drop-down menu for the user to select from \n",
    "\"\"\"\n",
    "categorical_data = [\"red\", \"yellow\", \"green\", \"brown\"]\n",
    "\n",
    "print(categorical_data)"
   ]
  },
  {
   "attachments": {},
   "cell_type": "markdown",
   "metadata": {},
   "source": [
    "#### 2. Free strings that can be semantically mapped to categories"
   ]
  },
  {
   "cell_type": "code",
   "execution_count": 34,
   "metadata": {},
   "outputs": [
    {
     "data": {
      "text/plain": [
       "' This is when the user is allowed to type/color a color without a fixed list (draw-down menu) provided. \\n    The result can still be mapped as mapped as a categorical data. \\n    One must however check for spelling mistates as they might mean the same thing\\n    like February and Februry \\n'"
      ]
     },
     "execution_count": 34,
     "metadata": {},
     "output_type": "execute_result"
    }
   ],
   "source": [
    "\"\"\" This is when the user is allowed to type/color a color without a fixed list (draw-down menu) provided. \n",
    "    The result can still be mapped as mapped as a categorical data. \n",
    "    One must however check for spelling mistates as they might mean the same thing\n",
    "    like February and Februry \n",
    "\"\"\""
   ]
  },
  {
   "attachments": {},
   "cell_type": "markdown",
   "metadata": {},
   "source": [
    "#### 3. Structured string data"
   ]
  },
  {
   "cell_type": "code",
   "execution_count": null,
   "metadata": {},
   "outputs": [],
   "source": []
  },
  {
   "attachments": {},
   "cell_type": "markdown",
   "metadata": {},
   "source": [
    "#### 4. Text data"
   ]
  },
  {
   "cell_type": "code",
   "execution_count": 35,
   "metadata": {},
   "outputs": [
    {
     "data": {
      "text/plain": [
       "' This is the form of data with no specific structure \\n    For example, blog message, twitter comment, youtube comment, etc\\n'"
      ]
     },
     "execution_count": 35,
     "metadata": {},
     "output_type": "execute_result"
    }
   ],
   "source": [
    "\"\"\" This is the form of data with no specific structure \n",
    "    For example, blog message, twitter comment, youtube comment, etc\n",
    "\"\"\"\n"
   ]
  },
  {
   "attachments": {},
   "cell_type": "markdown",
   "metadata": {},
   "source": [
    "### All Imports"
   ]
  },
  {
   "cell_type": "code",
   "execution_count": 36,
   "metadata": {},
   "outputs": [],
   "source": [
    "import pandas as pd \n",
    "from sklearn.model_selection import train_test_split "
   ]
  },
  {
   "cell_type": "code",
   "execution_count": null,
   "metadata": {},
   "outputs": [],
   "source": []
  },
  {
   "cell_type": "code",
   "execution_count": null,
   "metadata": {},
   "outputs": [],
   "source": []
  },
  {
   "attachments": {},
   "cell_type": "markdown",
   "metadata": {},
   "source": [
    "### Read the IMDB Data "
   ]
  },
  {
   "cell_type": "code",
   "execution_count": 44,
   "metadata": {},
   "outputs": [
    {
     "name": "stdout",
     "output_type": "stream",
     "text": [
      "                                              review sentiment\n",
      "0  One of the other reviewers has mentioned that ...  positive\n",
      "1  A wonderful little production. <br /><br />The...  positive\n",
      "2  I thought this was a wonderful way to spend ti...  positive\n",
      "3  Basically there's a family where a little boy ...  negative\n",
      "4  Petter Mattei's \"Love in the Time of Money\" is...  positive\n"
     ]
    }
   ],
   "source": [
    "data_imdb = pd.read_csv('data/imdb_dataset.csv')\n",
    "print(data_imdb.head())\n"
   ]
  },
  {
   "cell_type": "code",
   "execution_count": 45,
   "metadata": {},
   "outputs": [
    {
     "name": "stdout",
     "output_type": "stream",
     "text": [
      "['positive' 'negative']\n"
     ]
    }
   ],
   "source": [
    "print(data_imdb.sentiment.unique())"
   ]
  },
  {
   "attachments": {},
   "cell_type": "markdown",
   "metadata": {},
   "source": [
    "### Function to remove break line from document"
   ]
  },
  {
   "cell_type": "code",
   "execution_count": 39,
   "metadata": {},
   "outputs": [],
   "source": [
    "def first_preprocess(data):\n",
    "    return data.replace('<br /><br />', \" \")   "
   ]
  },
  {
   "cell_type": "code",
   "execution_count": 40,
   "metadata": {},
   "outputs": [
    {
     "name": "stdout",
     "output_type": "stream",
     "text": [
      "                                          new_review sentiment\n",
      "0  One of the other reviewers has mentioned that ...  positive\n",
      "1  A wonderful little production.  The filming te...  positive\n",
      "2  I thought this was a wonderful way to spend ti...  positive\n",
      "3  Basically there's a family where a little boy ...  negative\n",
      "4  Petter Mattei's \"Love in the Time of Money\" is...  positive\n"
     ]
    }
   ],
   "source": [
    "data_imdb[\"new_review\"] = data_imdb[\"review\"].apply(lambda x : first_preprocess(x))\n",
    "process_data = data_imdb[[\"new_review\", \"sentiment\"]]\n",
    "print(process_data.head())"
   ]
  },
  {
   "cell_type": "code",
   "execution_count": 41,
   "metadata": {},
   "outputs": [],
   "source": [
    "X, y = data_imdb[\"new_review\"], data_imdb[\"sentiment\"]"
   ]
  },
  {
   "cell_type": "code",
   "execution_count": 50,
   "metadata": {},
   "outputs": [],
   "source": [
    "X_ = [i for i in X]\n",
    "y_ = [i for i in y]"
   ]
  },
  {
   "cell_type": "code",
   "execution_count": 51,
   "metadata": {},
   "outputs": [
    {
     "name": "stdout",
     "output_type": "stream",
     "text": [
      "<class 'pandas.core.series.Series'>\n",
      "33500 16500 33500 16500\n"
     ]
    }
   ],
   "source": [
    "X_train, X_test, y_train, y_test = train_test_split(X, y, test_size=0.33, random_state=42)\n",
    "\n",
    "print(type(X_train))\n",
    "print(len(X_train), len(X_test), len(y_train), len(y_test)) "
   ]
  },
  {
   "cell_type": "code",
   "execution_count": 52,
   "metadata": {},
   "outputs": [
    {
     "name": "stdout",
     "output_type": "stream",
     "text": [
      "<class 'list'>\n",
      "33500 16500 33500 16500\n"
     ]
    }
   ],
   "source": [
    "X_train, X_test, y_train, y_test = train_test_split(X_, y_, test_size=0.33, random_state=42)\n",
    "\n",
    "print(type(X_train))\n",
    "print(len(X_train), len(X_test), len(y_train), len(y_test)) \n"
   ]
  },
  {
   "cell_type": "code",
   "execution_count": 55,
   "metadata": {},
   "outputs": [
    {
     "name": "stdout",
     "output_type": "stream",
     "text": [
      "Randolph Scott is heading into Albuquerque to take a job with his uncle. However, on the way there, the stage is held up--even though they are not carrying a strongbox. However, a nice lady on board is concealing $10,000 for her and her brother's business...and the robbers seem to know this. Once in town, Scott goes to this uncle about the job. However, he soon learns that this uncle is a jerk--the typical bad guy from Westerns. You know, the rich guy who only wants to become richer by cheating and stealing and threatening until he owns everything. And, it just so happens that this jerk was behind the robbery. Scott demands that the uncle returns the money and then Scott goes into business with the nice lady and her brother. Not surprisingly, this is NOT the end of the problems---just the beginning. Again and again, intrigues of various types occur to try to crush the uncle's opposition. One trick is to bring in a pretty lady to befriend Scott and his partners. She's a crack shot and it looks bad for Scott--until he figures out why she's come to town. Unlike most later Randolph Scott films, this one shows Scott as a bit more headstrong man. All too often in his films he's the last one to suggest violence, but in this film he's quick to suggest a lynching (screw the law, let's have a hangin') and later he's quick to threaten the uncle. What a surprise to see him as such a hot-head--though in most other ways, he's the same old Scott you'd expect. As far as the film goes, there's nothing particularly unusual about it. Gabby Hayes plays the usual character, Scott is a hero, the baddie cannot be reasoned with and ultimately is destroyed and Scott gets the girl. Despite this very typical plot, it's all handled very well and as a result is well worth your time. By the way, there are two weird scenes in the film. First, late in the movie, there is a fist fight between Scott and the uncle's #1 henchman, Lon Chaney, Jr.. In it, Chaney smokes as he fights--something I never saw before and I did admire how he could puff away as he got his butt kicked. Second, get a load of that runaway cart scene with the whip--now THAT was one impossible feat!\n",
      "positive\n",
      "I like this movie cause it has a good approach of Buddhism, for example, the way Buddhist use to care all kind of living things, combining some fancy and real situations; in some parts the photography is very good and a lot of messages about freedom, as the hawk episode, staying always focused in every moment, even in tough situations.. It has also funny situations as Swank's birthday and, talking this two times academy awards, her acting show us how the people who use to live in this kind of culture is trying to have a resistance behavior when Miyagi is taking her to a Buddhist temple, and how she, slowly, is changing her mind. And, of course, Pat Morita has been always great\n",
      "positive\n",
      "Well don't expect anything deep an meaningful. Most of the fight scenes are pretty decent. The two leading ladies are quite endearing but their lack of HK action background shows at times. The ending maybe lacks something but I quite enjoyed it none the less. The cheesy humour isn't probably going to appeal to anyone who hasn't watched a bunch of HK films but if your down with that sort of thing and have a couple of hours to fill with something meaningless you could do a lot worse than this. (OK so you could do better but.......) Certainly on a par with most of the Hollywood blockbuster action drivel. 7/10\n",
      "positive\n",
      "This really should deserve a \"O\" rating, or even a negative ten. I watched this show for ages, and the show jumped the shark around series 7. This episode, however, is proof that the show has jumped the shark. It's writing is lazy, absurd, self-indulgent and not even worthy of rubbish like Beavis and Butthead. It is quite possible to be ridiculous and still be fun -- Pirates of the Caribbean, the Mummy, Count of Monte Cristo -- all \"fun\" movies that are not to be taken seriously. However, there is such thing as ridiculous as in \"this is the worst thing I've ever seen.\" And indeed, this is the worst episode of Stargate I've ever seen. It's absolutely dreadful, and this coming from someone with a stargate in her basement. Makes me want to sell all of my stargate props, most seriously.\n",
      "negative\n"
     ]
    }
   ],
   "source": [
    "for i in range(4):\n",
    "    print(X_train[i])\n",
    "    print(y_train[i])"
   ]
  },
  {
   "cell_type": "code",
   "execution_count": 43,
   "metadata": {},
   "outputs": [
    {
     "name": "stdout",
     "output_type": "stream",
     "text": [
      "<class 'pandas.core.series.Series'>\n",
      "33500 16500 33500 16500\n"
     ]
    }
   ],
   "source": [
    "print(type(X_train))\n",
    "print(len(X_train), len(X_test), len(y_train), len(y_test))"
   ]
  },
  {
   "attachments": {},
   "cell_type": "markdown",
   "metadata": {},
   "source": [
    "### Representing Data as BAG OF WORDS"
   ]
  },
  {
   "cell_type": "code",
   "execution_count": null,
   "metadata": {},
   "outputs": [],
   "source": []
  },
  {
   "cell_type": "code",
   "execution_count": null,
   "metadata": {},
   "outputs": [],
   "source": []
  },
  {
   "cell_type": "code",
   "execution_count": null,
   "metadata": {},
   "outputs": [],
   "source": []
  },
  {
   "cell_type": "code",
   "execution_count": null,
   "metadata": {},
   "outputs": [],
   "source": []
  },
  {
   "cell_type": "code",
   "execution_count": null,
   "metadata": {},
   "outputs": [],
   "source": []
  },
  {
   "cell_type": "code",
   "execution_count": null,
   "metadata": {},
   "outputs": [],
   "source": []
  },
  {
   "cell_type": "code",
   "execution_count": null,
   "metadata": {},
   "outputs": [],
   "source": []
  },
  {
   "cell_type": "code",
   "execution_count": null,
   "metadata": {},
   "outputs": [],
   "source": []
  }
 ],
 "metadata": {
  "kernelspec": {
   "display_name": "deeplearning",
   "language": "python",
   "name": "python3"
  },
  "language_info": {
   "codemirror_mode": {
    "name": "ipython",
    "version": 3
   },
   "file_extension": ".py",
   "mimetype": "text/x-python",
   "name": "python",
   "nbconvert_exporter": "python",
   "pygments_lexer": "ipython3",
   "version": "3.8.13"
  },
  "orig_nbformat": 4
 },
 "nbformat": 4,
 "nbformat_minor": 2
}
